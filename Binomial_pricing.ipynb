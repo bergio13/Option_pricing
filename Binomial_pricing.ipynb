{
  "nbformat": 4,
  "nbformat_minor": 0,
  "metadata": {
    "colab": {
      "provenance": [],
      "authorship_tag": "ABX9TyO1RvFHzTI+r4UNuLT34lj8"
    },
    "kernelspec": {
      "name": "python3",
      "display_name": "Python 3"
    },
    "language_info": {
      "name": "python"
    },
    "gpuClass": "standard"
  },
  "cells": [
    {
      "cell_type": "code",
      "source": [
        "import pandas as pd\n",
        "import pandas_datareader.data as web\n",
        "import numpy as np\n",
        "import datetime as dt\n",
        "import math\n",
        "\n",
        "import matplotlib.pyplot as plt\n"
      ],
      "metadata": {
        "id": "dB13IS5DCTal"
      },
      "execution_count": 67,
      "outputs": []
    },
    {
      "cell_type": "code",
      "execution_count": 3,
      "metadata": {
        "id": "FtDJhv1viiTU"
      },
      "outputs": [],
      "source": [
        "def const_binomial_tree(n):\n",
        "    for i in range(n):\n",
        "        x = [1, 0, 1]\n",
        "        for j in range(i):\n",
        "            x.append(0)\n",
        "            x.append(1)\n",
        "        x = np.array(x) + i\n",
        "        y = np.arange(-(i+1), i+2)[::-1]\n",
        "        #y = np.arange(n-1-i, n+2+i)[::-1]\n",
        "        plt.plot(x, y, 'bo-')\n",
        "    plt.show()"
      ]
    },
    {
      "cell_type": "code",
      "source": [
        "const_binomial_tree(3)"
      ],
      "metadata": {
        "colab": {
          "base_uri": "https://localhost:8080/",
          "height": 430
        },
        "id": "Kz2h4ZvikFAc",
        "outputId": "f9f3d064-40b3-4944-c9b2-4c0b1e498dd0"
      },
      "execution_count": 4,
      "outputs": [
        {
          "output_type": "display_data",
          "data": {
            "text/plain": [
              "<Figure size 640x480 with 1 Axes>"
            ],
            "image/png": "[encoded data removed]"
          },
          "metadata": {}
        }
      ]
    },
    {
      "cell_type": "markdown",
      "source": [
        "## Inputs"
      ],
      "metadata": {
        "id": "2zYe27DZmjIG"
      }
    },
    {
      "cell_type": "code",
      "source": [
        "T = 1\n",
        "n = 10\n",
        "dt = T / n\n",
        "r = 0.05 * T\n",
        "m = 1+r\n",
        "u = 1.1\n",
        "d = 1/1.1\n",
        "p = (1+r-d)/(u-d)\n",
        "q = 1-p\n",
        "s0 = 100\n",
        "K = 100\n",
        "option_type = 'P'"
      ],
      "metadata": {
        "id": "F9q0u68kmL3U"
      },
      "execution_count": 5,
      "outputs": []
    },
    {
      "cell_type": "markdown",
      "source": [
        "## Binomial tree"
      ],
      "metadata": {
        "id": "Ir92g1L_mumD"
      }
    },
    {
      "cell_type": "code",
      "source": [
        "def binomial_tree(n, u, d, s0):\n",
        "    prices = np.zeros((n+1, n+1))\n",
        "    prices[0, 0] = s0\n",
        "    for i in range(1, n+1):\n",
        "        prices[0:i, i] = prices[0:i, i-1] * u\n",
        "        prices[i, i] = prices[i-1, i-1] * d\n",
        "    return prices"
      ],
      "metadata": {
        "id": "wmWCBVsxmOc6"
      },
      "execution_count": 6,
      "outputs": []
    },
    {
      "cell_type": "code",
      "source": [
        "stock_prices = binomial_tree(n, u, d, s0)\n",
        "stock_prices"
      ],
      "metadata": {
        "colab": {
          "base_uri": "https://localhost:8080/"
        },
        "id": "7DBJtK7Fmcbb",
        "outputId": "088995b8-33da-46b3-c5f9-e9e0e6c5009d"
      },
      "execution_count": 7,
      "outputs": [
        {
          "output_type": "execute_result",
          "data": {
            "text/plain": [
              "array([[100.        , 110.        , 121.        , 133.1       ,\n",
              "        146.41      , 161.051     , 177.1561    , 194.87171   ,\n",
              "        214.358881  , 235.7947691 , 259.37424601],\n",
              "       [  0.        ,  90.90909091, 100.        , 110.        ,\n",
              "        121.        , 133.1       , 146.41      , 161.051     ,\n",
              "        177.1561    , 194.87171   , 214.358881  ],\n",
              "       [  0.        ,   0.        ,  82.6446281 ,  90.90909091,\n",
              "        100.        , 110.        , 121.        , 133.1       ,\n",
              "        146.41      , 161.051     , 177.1561    ],\n",
              "       [  0.        ,   0.        ,   0.        ,  75.13148009,\n",
              "         82.6446281 ,  90.90909091, 100.        , 110.        ,\n",
              "        121.        , 133.1       , 146.41      ],\n",
              "       [  0.        ,   0.        ,   0.        ,   0.        ,\n",
              "         68.30134554,  75.13148009,  82.6446281 ,  90.90909091,\n",
              "        100.        , 110.        , 121.        ],\n",
              "       [  0.        ,   0.        ,   0.        ,   0.        ,\n",
              "          0.        ,  62.09213231,  68.30134554,  75.13148009,\n",
              "         82.6446281 ,  90.90909091, 100.        ],\n",
              "       [  0.        ,   0.        ,   0.        ,   0.        ,\n",
              "          0.        ,   0.        ,  56.44739301,  62.09213231,\n",
              "         68.30134554,  75.13148009,  82.6446281 ],\n",
              "       [  0.        ,   0.        ,   0.        ,   0.        ,\n",
              "          0.        ,   0.        ,   0.        ,  51.31581182,\n",
              "         56.44739301,  62.09213231,  68.30134554],\n",
              "       [  0.        ,   0.        ,   0.        ,   0.        ,\n",
              "          0.        ,   0.        ,   0.        ,   0.        ,\n",
              "         46.65073802,  51.31581182,  56.44739301],\n",
              "       [  0.        ,   0.        ,   0.        ,   0.        ,\n",
              "          0.        ,   0.        ,   0.        ,   0.        ,\n",
              "          0.        ,  42.40976184,  46.65073802],\n",
              "       [  0.        ,   0.        ,   0.        ,   0.        ,\n",
              "          0.        ,   0.        ,   0.        ,   0.        ,\n",
              "          0.        ,   0.        ,  38.55432894]])"
            ]
          },
          "metadata": {},
          "execution_count": 7
        }
      ]
    },
    {
      "cell_type": "code",
      "source": [
        "def draw_bin_tree(n, u, d, s0):\n",
        "    tree = binomial_tree(n, u, d, s0)\n",
        "    y = []\n",
        "    for i in range(n+1):\n",
        "        for j in tree[:, i]:\n",
        "            if j != 0:\n",
        "                y.append((j, i))\n",
        "    y = np.array(y)\n",
        "    plt.scatter(y[:, 1], y[:, 0])"
      ],
      "metadata": {
        "id": "hhspXO11nGsV"
      },
      "execution_count": 8,
      "outputs": []
    },
    {
      "cell_type": "code",
      "source": [
        "draw_bin_tree(n, u, d, s0)"
      ],
      "metadata": {
        "id": "D8u_5MA6nMmt",
        "outputId": "0da65aff-5bef-4191-f547-92b2cd80da18",
        "colab": {
          "base_uri": "https://localhost:8080/",
          "height": 430
        }
      },
      "execution_count": 9,
      "outputs": [
        {
          "output_type": "display_data",
          "data": {
            "text/plain": [
              "<Figure size 640x480 with 1 Axes>"
            ],
            "image/png": "[encoded data removed]"
          },
          "metadata": {}
        }
      ]
    },
    {
      "cell_type": "markdown",
      "source": [
        "## Option payoff at maturity"
      ],
      "metadata": {
        "id": "iNScILBEoH1q"
      }
    },
    {
      "cell_type": "code",
      "source": [
        "def option_maturity_payoffs(stock_prices, K, option_type):\n",
        "    if option_type == 'C':\n",
        "        payoffs = stock_prices[:, len(stock_prices)-1] - K\n",
        "    else:\n",
        "        payoffs = K - stock_prices[:, len(stock_prices)-1]\n",
        "    for j in range(len(payoffs)):\n",
        "        payoffs[j] = max(0, payoffs[j])\n",
        "    return payoffs"
      ],
      "metadata": {
        "id": "Z9zYbICzn8Kv"
      },
      "execution_count": 10,
      "outputs": []
    },
    {
      "cell_type": "code",
      "source": [
        "maturity_payoff = option_maturity_payoffs(stock_prices, K, option_type)\n",
        "maturity_payoff"
      ],
      "metadata": {
        "colab": {
          "base_uri": "https://localhost:8080/"
        },
        "id": "4YSxKkCroQft",
        "outputId": "1b28c2c3-4410-4520-df2b-5dee2db2be80"
      },
      "execution_count": 11,
      "outputs": [
        {
          "output_type": "execute_result",
          "data": {
            "text/plain": [
              "array([ 0.        ,  0.        ,  0.        ,  0.        ,  0.        ,\n",
              "        0.        , 17.3553719 , 31.69865446, 43.55260699, 53.34926198,\n",
              "       61.44567106])"
            ]
          },
          "metadata": {},
          "execution_count": 11
        }
      ]
    },
    {
      "cell_type": "markdown",
      "source": [
        "### Backward recursion to determine option price at time 0"
      ],
      "metadata": {
        "id": "x2lAIXhCoino"
      }
    },
    {
      "cell_type": "code",
      "source": [
        "def backward_payoffs(n, r, p, stock_prices, maturity_payoff):\n",
        "    back_option_payoffs = np.zeros((n+1, n+1))\n",
        "    back_option_payoffs[:, n] = maturity_payoff\n",
        "    for i in range(n-1, -1, -1):\n",
        "        for j in range(n-1, -1, -1):\n",
        "            if stock_prices[i][j] != 0:\n",
        "                back_option_payoffs[i][j] = (1/m)*(back_option_payoffs[i][j+1]*p + back_option_payoffs[i+1][j+1]*q) \n",
        "    return back_option_payoffs"
      ],
      "metadata": {
        "id": "h_wlYSqgokRF"
      },
      "execution_count": 12,
      "outputs": []
    },
    {
      "cell_type": "code",
      "source": [
        "b_payoffs = backward_payoffs(n, r, p, stock_prices, maturity_payoff)\n",
        "b_payoffs"
      ],
      "metadata": {
        "colab": {
          "base_uri": "https://localhost:8080/"
        },
        "id": "fOUd17-PooI2",
        "outputId": "52dbc51d-f07f-4301-85ff-470c21697d40"
      },
      "execution_count": 13,
      "outputs": [
        {
          "output_type": "execute_result",
          "data": {
            "text/plain": [
              "array([[3.09666413e-01, 1.60159325e-01, 6.91924683e-02, 2.24716422e-02,\n",
              "        4.17982884e-03, 0.00000000e+00, 0.00000000e+00, 0.00000000e+00,\n",
              "        0.00000000e+00, 0.00000000e+00, 0.00000000e+00],\n",
              "       [0.00000000e+00, 7.90122704e-01, 4.47096337e-01, 2.14069722e-01,\n",
              "        7.83113387e-02, 1.67573138e-02, 0.00000000e+00, 0.00000000e+00,\n",
              "        0.00000000e+00, 0.00000000e+00, 0.00000000e+00],\n",
              "       [0.00000000e+00, 0.00000000e+00, 1.90767498e+00, 1.18916246e+00,\n",
              "        6.37529386e-01, 2.66732119e-01, 6.71815945e-02, 0.00000000e+00,\n",
              "        0.00000000e+00, 0.00000000e+00, 0.00000000e+00],\n",
              "       [0.00000000e+00, 0.00000000e+00, 0.00000000e+00, 4.29676640e+00,\n",
              "        2.97078669e+00, 1.80421366e+00, 8.80023366e-01, 2.69337120e-01,\n",
              "        0.00000000e+00, 0.00000000e+00, 0.00000000e+00],\n",
              "       [0.00000000e+00, 0.00000000e+00, 0.00000000e+00, 0.00000000e+00,\n",
              "        8.85391005e+00, 6.82555179e+00, 4.75319073e+00, 2.76905270e+00,\n",
              "        1.07979700e+00, 0.00000000e+00, 0.00000000e+00],\n",
              "       [0.00000000e+00, 0.00000000e+00, 0.00000000e+00, 0.00000000e+00,\n",
              "        0.00000000e+00, 1.62604843e+01, 1.39689019e+01, 1.12522798e+01,\n",
              "        8.05831975e+00, 4.32900433e+00, 0.00000000e+00],\n",
              "       [0.00000000e+00, 0.00000000e+00, 0.00000000e+00, 0.00000000e+00,\n",
              "        0.00000000e+00, 0.00000000e+00, 2.58228545e+01, 2.42916275e+01,\n",
              "        2.24016023e+01, 2.01066151e+01, 1.73553719e+01],\n",
              "       [0.00000000e+00, 0.00000000e+00, 0.00000000e+00, 0.00000000e+00,\n",
              "        0.00000000e+00, 0.00000000e+00, 0.00000000e+00, 3.50679480e+01,\n",
              "        3.42555548e+01, 3.31459629e+01, 3.16986545e+01],\n",
              "       [0.00000000e+00, 0.00000000e+00, 0.00000000e+00, 0.00000000e+00,\n",
              "        0.00000000e+00, 0.00000000e+00, 0.00000000e+00, 0.00000000e+00,\n",
              "        4.40522098e+01, 4.39222834e+01, 4.35526070e+01],\n",
              "       [0.00000000e+00, 0.00000000e+00, 0.00000000e+00, 0.00000000e+00,\n",
              "        0.00000000e+00, 0.00000000e+00, 0.00000000e+00, 0.00000000e+00,\n",
              "        0.00000000e+00, 5.28283334e+01, 5.33492620e+01],\n",
              "       [0.00000000e+00, 0.00000000e+00, 0.00000000e+00, 0.00000000e+00,\n",
              "        0.00000000e+00, 0.00000000e+00, 0.00000000e+00, 0.00000000e+00,\n",
              "        0.00000000e+00, 0.00000000e+00, 6.14456711e+01]])"
            ]
          },
          "metadata": {},
          "execution_count": 13
        }
      ]
    },
    {
      "cell_type": "code",
      "source": [
        "def draw_payoffs(b_payoffs):\n",
        "    tree = b_payoffs\n",
        "    y = []\n",
        "    for i in range(n+1):\n",
        "        for j in range(len(tree[:, i])):\n",
        "            if tree[j, i] != 0 or  i>=j:\n",
        "                y.append((tree[j, i], i))\n",
        "    y = np.array(y)\n",
        "    plt.scatter(y[:, 1], y[:, 0])"
      ],
      "metadata": {
        "id": "xh4XE_afosfl"
      },
      "execution_count": 14,
      "outputs": []
    },
    {
      "cell_type": "code",
      "source": [
        "draw_payoffs(b_payoffs)"
      ],
      "metadata": {
        "colab": {
          "base_uri": "https://localhost:8080/",
          "height": 430
        },
        "id": "E0-Nw9-ipOHM",
        "outputId": "e57558d1-fb3c-4eb8-a015-782e3ee6689f"
      },
      "execution_count": 15,
      "outputs": [
        {
          "output_type": "display_data",
          "data": {
            "text/plain": [
              "<Figure size 640x480 with 1 Axes>"
            ],
            "image/png": "[encoded data removed]"
          },
          "metadata": {}
        }
      ]
    },
    {
      "cell_type": "markdown",
      "source": [
        "### American put options"
      ],
      "metadata": {
        "id": "VKUmyh_WvL02"
      }
    },
    {
      "cell_type": "code",
      "source": [
        "def put_anticipated_payoffs(b_payoffs, K, stock_prices):\n",
        "    intrinsic_value = np.zeros((n+1, n+1))\n",
        "    intrinsic_value[:, n] = b_payoffs[:, n]\n",
        "    for i in range(n-1, -1, -1):\n",
        "        for j in range(n-1, -1, -1):\n",
        "            if b_payoffs[i][j] != 0:\n",
        "                intrinsic_value[i][j] = max(b_payoffs[i][j], K - stock_prices[i][j])\n",
        "    intrinsic_value[0][0] = (1/m)*(p*intrinsic_value[1][0]+q*intrinsic_value[1][1])\n",
        "    return intrinsic_value"
      ],
      "metadata": {
        "id": "aHoHw087vPZ5"
      },
      "execution_count": 16,
      "outputs": []
    },
    {
      "cell_type": "code",
      "source": [
        "b_payoffs = put_anticipated_payoffs(b_payoffs, K, stock_prices)\n",
        "b_payoffs"
      ],
      "metadata": {
        "colab": {
          "base_uri": "https://localhost:8080/"
        },
        "id": "eopjUrrEvUjJ",
        "outputId": "f5a5ffa5-a6b8-4369-a341-fdb5a832771f"
      },
      "execution_count": 17,
      "outputs": [
        {
          "output_type": "execute_result",
          "data": {
            "text/plain": [
              "array([[2.26757370e+00, 1.60159325e-01, 6.91924683e-02, 2.24716422e-02,\n",
              "        4.17982884e-03, 0.00000000e+00, 0.00000000e+00, 0.00000000e+00,\n",
              "        0.00000000e+00, 0.00000000e+00, 0.00000000e+00],\n",
              "       [0.00000000e+00, 9.09090909e+00, 4.47096337e-01, 2.14069722e-01,\n",
              "        7.83113387e-02, 1.67573138e-02, 0.00000000e+00, 0.00000000e+00,\n",
              "        0.00000000e+00, 0.00000000e+00, 0.00000000e+00],\n",
              "       [0.00000000e+00, 0.00000000e+00, 1.73553719e+01, 9.09090909e+00,\n",
              "        6.37529386e-01, 2.66732119e-01, 6.71815945e-02, 0.00000000e+00,\n",
              "        0.00000000e+00, 0.00000000e+00, 0.00000000e+00],\n",
              "       [0.00000000e+00, 0.00000000e+00, 0.00000000e+00, 2.48685199e+01,\n",
              "        1.73553719e+01, 9.09090909e+00, 8.80023366e-01, 2.69337120e-01,\n",
              "        0.00000000e+00, 0.00000000e+00, 0.00000000e+00],\n",
              "       [0.00000000e+00, 0.00000000e+00, 0.00000000e+00, 0.00000000e+00,\n",
              "        3.16986545e+01, 2.48685199e+01, 1.73553719e+01, 9.09090909e+00,\n",
              "        1.07979700e+00, 0.00000000e+00, 0.00000000e+00],\n",
              "       [0.00000000e+00, 0.00000000e+00, 0.00000000e+00, 0.00000000e+00,\n",
              "        0.00000000e+00, 3.79078677e+01, 3.16986545e+01, 2.48685199e+01,\n",
              "        1.73553719e+01, 9.09090909e+00, 0.00000000e+00],\n",
              "       [0.00000000e+00, 0.00000000e+00, 0.00000000e+00, 0.00000000e+00,\n",
              "        0.00000000e+00, 0.00000000e+00, 4.35526070e+01, 3.79078677e+01,\n",
              "        3.16986545e+01, 2.48685199e+01, 1.73553719e+01],\n",
              "       [0.00000000e+00, 0.00000000e+00, 0.00000000e+00, 0.00000000e+00,\n",
              "        0.00000000e+00, 0.00000000e+00, 0.00000000e+00, 4.86841882e+01,\n",
              "        4.35526070e+01, 3.79078677e+01, 3.16986545e+01],\n",
              "       [0.00000000e+00, 0.00000000e+00, 0.00000000e+00, 0.00000000e+00,\n",
              "        0.00000000e+00, 0.00000000e+00, 0.00000000e+00, 0.00000000e+00,\n",
              "        5.33492620e+01, 4.86841882e+01, 4.35526070e+01],\n",
              "       [0.00000000e+00, 0.00000000e+00, 0.00000000e+00, 0.00000000e+00,\n",
              "        0.00000000e+00, 0.00000000e+00, 0.00000000e+00, 0.00000000e+00,\n",
              "        0.00000000e+00, 5.75902382e+01, 5.33492620e+01],\n",
              "       [0.00000000e+00, 0.00000000e+00, 0.00000000e+00, 0.00000000e+00,\n",
              "        0.00000000e+00, 0.00000000e+00, 0.00000000e+00, 0.00000000e+00,\n",
              "        0.00000000e+00, 0.00000000e+00, 6.14456711e+01]])"
            ]
          },
          "metadata": {},
          "execution_count": 17
        }
      ]
    },
    {
      "cell_type": "code",
      "source": [
        "draw_payoffs(b_payoffs)"
      ],
      "metadata": {
        "colab": {
          "base_uri": "https://localhost:8080/",
          "height": 430
        },
        "id": "bwXwi8tVvWw8",
        "outputId": "0988d742-13b8-4c2b-b239-d703f5183747"
      },
      "execution_count": 18,
      "outputs": [
        {
          "output_type": "display_data",
          "data": {
            "text/plain": [
              "<Figure size 640x480 with 1 Axes>"
            ],
            "image/png": "[encoded data removed]"
          },
          "metadata": {}
        }
      ]
    },
    {
      "cell_type": "markdown",
      "source": [
        "## Practical usage"
      ],
      "metadata": {
        "id": "BIPe2E9XCi1J"
      }
    },
    {
      "cell_type": "code",
      "source": [
        "r = np.log(1+r)\n",
        "m = np.exp(r*dt)\n",
        "sigma = 0.2\n",
        "u = np.exp(sigma*np.sqrt(dt))\n",
        "d = 1/u\n",
        "p = (m - d)/(u-d)\n",
        "q = 1-p"
      ],
      "metadata": {
        "id": "sEmcF32pygfu"
      },
      "execution_count": 19,
      "outputs": []
    },
    {
      "cell_type": "code",
      "source": [
        "def combination(n, k):\n",
        "    return math.factorial(n) / (math.factorial(k)*math.factorial(n - k))\n",
        "    \n",
        "def binomial_f(k, n, p):\n",
        "    return combination(n, k)*(p**k)*(1-p)**(n-k)"
      ],
      "metadata": {
        "id": "GdwmxPXXCwGt"
      },
      "execution_count": 20,
      "outputs": []
    },
    {
      "cell_type": "code",
      "source": [
        "def payoff(n, k, p, u, d, s0, K):\n",
        "    pay = 0\n",
        "    for k in range(n+1):\n",
        "        if option_type == 'C':\n",
        "            pay += binomial_f(k, n, p) * max(0, (u**k)*(d**(n-k))*s0 - K)\n",
        "        else:\n",
        "            pay += binomial_f(k, n, p) * max(0, K - (u**k)*(d**(n-k))*s0)\n",
        "    return (1/m**n) * pay"
      ],
      "metadata": {
        "id": "RSEB1dZICqEQ"
      },
      "execution_count": 21,
      "outputs": []
    },
    {
      "cell_type": "code",
      "source": [
        "price = payoff(n, 1, p, u, d, s0, K)\n",
        "price"
      ],
      "metadata": {
        "colab": {
          "base_uri": "https://localhost:8080/"
        },
        "id": "Y_VSad6ZCt3h",
        "outputId": "60081bb5-f144-41f3-f285-0f43f3f0fd99"
      },
      "execution_count": 103,
      "outputs": [
        {
          "output_type": "execute_result",
          "data": {
            "text/plain": [
              "5.427340048130218"
            ]
          },
          "metadata": {},
          "execution_count": 103
        }
      ]
    },
    {
      "cell_type": "code",
      "source": [
        "def binom_EU1(S0, K , T, r, sigma, N, type_ = 'call'):\n",
        "    dt = T/N\n",
        "    u = np.exp(sigma * np.sqrt(dt))\n",
        "    d = np.exp(-sigma * np.sqrt(dt))\n",
        "    p = (  np.exp(r*dt) - d )  /  (  u - d )\n",
        "    value = 0 \n",
        "    for i in range(N+1):\n",
        "        node_prob = combination(N, i)*p**i*(1-p)**(N-i)\n",
        "        ST = S0*(u)**i*(d)**(N-i)\n",
        "        if type_ == 'call':\n",
        "            value += max(ST-K,0) * node_prob\n",
        "        elif type_ == 'put':\n",
        "            value += max(K-ST, 0)*node_prob\n",
        "\n",
        "    return value*np.exp(-r*T)\n",
        "\n",
        "\n",
        "def get_data(symbol, n):\n",
        "    obj = yf.Ticker(symbol)\n",
        "    expiry_dates = obj.options\n",
        "    options = obj.option_chain(expiry_dates[n])\n",
        "    df = options.calls\n",
        "    df.reset_index(inplace=True)\n",
        "    df['Time'] = (dt.datetime.strptime(expiry_dates[n], '%Y-%m-%d') - dt.datetime.now()).days\n",
        "    df['expiration'] = dt.datetime.strptime(expiry_dates[n], '%Y-%m-%d')\n",
        "    df['mid_price'] = (df.bid + df.ask) / 2\n",
        "    return df\n",
        "\n",
        "df = get_data('AAPL', 0)\n",
        "\n",
        "prices = [] \n",
        "\n",
        "for row in df.itertuples():\n",
        "    price = binom_EU1(161, row.strike, row.Time / 255, 0.03, 0.018 * np.sqrt(row.Time), 50, 'call')\n",
        "    prices.append(price)\n",
        "    \n",
        "df['Price'] = prices\n",
        "df['error'] = df.lastPrice - df.Price \n",
        "\n",
        "plt.plot(df.strike, df.mid_price, label= 'Mid Price')\n",
        "plt.plot(df.strike, df.Price, label = 'Calculated Price')\n",
        "plt.xlabel('Strike')\n",
        "plt.ylabel('Call Value')\n",
        "plt.legend()\n"
      ],
      "metadata": {
        "colab": {
          "base_uri": "https://localhost:8080/",
          "height": 466
        },
        "id": "vq7jCFunC_f2",
        "outputId": "440d908c-d649-4a49-9e34-64c64d6137f2"
      },
      "execution_count": 237,
      "outputs": [
        {
          "output_type": "execute_result",
          "data": {
            "text/plain": [
              "<matplotlib.legend.Legend at 0x7ff68181c940>"
            ]
          },
          "metadata": {},
          "execution_count": 237
        },
        {
          "output_type": "display_data",
          "data": {
            "text/plain": [
              "<Figure size 640x480 with 1 Axes>"
            ],
            "image/png": "[encoded data removed]"
          },
          "metadata": {}
        }
      ]
    },
    {
      "cell_type": "code",
      "source": [
        "df.tail()"
      ],
      "metadata": {
        "colab": {
          "base_uri": "https://localhost:8080/",
          "height": 357
        },
        "id": "pLDuUkt6ilTf",
        "outputId": "12898b74-8097-4cad-c74e-8a75224b5997"
      },
      "execution_count": 197,
      "outputs": [
        {
          "output_type": "execute_result",
          "data": {
            "text/plain": [
              "    index       contractSymbol             lastTradeDate  strike  lastPrice   \n",
              "41     41  AAPL230428C00195000 2023-04-10 15:06:40+00:00   195.0       0.02  \\\n",
              "42     42  AAPL230428C00200000 2023-04-10 14:24:04+00:00   200.0       0.03   \n",
              "43     43  AAPL230428C00205000 2023-04-04 17:04:32+00:00   205.0       0.01   \n",
              "44     44  AAPL230428C00245000 2023-03-13 14:51:49+00:00   245.0       0.01   \n",
              "45     45  AAPL230428C00250000 2023-04-03 18:58:35+00:00   250.0       0.02   \n",
              "\n",
              "    bid   ask  change  percentChange  volume  openInterest  impliedVolatility   \n",
              "41  0.0  0.02     0.0            0.0     1.0           157           0.335944  \\\n",
              "42  0.0  0.02     0.0            0.0     1.0           243           0.371100   \n",
              "43  0.0  0.03     0.0            0.0     1.0             2           0.429693   \n",
              "44  0.0  0.02     0.0            0.0     NaN             1           0.625004   \n",
              "45  0.0  0.00     0.0            0.0     4.0           456           0.500005   \n",
              "\n",
              "    inTheMoney contractSize currency  Time expiration  mid_price      Price   \n",
              "41       False      REGULAR      USD    16 2023-04-28      0.010  40.558913  \\\n",
              "42       False      REGULAR      USD    16 2023-04-28      0.010  37.579386   \n",
              "43       False      REGULAR      USD    16 2023-04-28      0.015  34.659205   \n",
              "44       False      REGULAR      USD    16 2023-04-28      0.010  14.591867   \n",
              "45       False      REGULAR      USD    16 2023-04-28      0.000  12.690393   \n",
              "\n",
              "        error  \n",
              "41 -40.538913  \n",
              "42 -37.549386  \n",
              "43 -34.649205  \n",
              "44 -14.581867  \n",
              "45 -12.670393  "
            ],
            "text/html": [
              "\n",
              "  <div id=\"df-a0c7c91d-ece7-4191-9336-e20d01162275\">\n",
              "    <div class=\"colab-df-container\">\n",
              "      <div>\n",
              "<style scoped>\n",
              "    .dataframe tbody tr th:only-of-type {\n",
              "        vertical-align: middle;\n",
              "    }\n",
              "\n",
              "    .dataframe tbody tr th {\n",
              "        vertical-align: top;\n",
              "    }\n",
              "\n",
              "    .dataframe thead th {\n",
              "        text-align: right;\n",
              "    }\n",
              "</style>\n",
              "<table border=\"1\" class=\"dataframe\">\n",
              "  <thead>\n",
              "    <tr style=\"text-align: right;\">\n",
              "      <th></th>\n",
              "      <th>index</th>\n",
              "      <th>contractSymbol</th>\n",
              "      <th>lastTradeDate</th>\n",
              "      <th>strike</th>\n",
              "      <th>lastPrice</th>\n",
              "      <th>bid</th>\n",
              "      <th>ask</th>\n",
              "      <th>change</th>\n",
              "      <th>percentChange</th>\n",
              "      <th>volume</th>\n",
              "      <th>openInterest</th>\n",
              "      <th>impliedVolatility</th>\n",
              "      <th>inTheMoney</th>\n",
              "      <th>contractSize</th>\n",
              "      <th>currency</th>\n",
              "      <th>Time</th>\n",
              "      <th>expiration</th>\n",
              "      <th>mid_price</th>\n",
              "      <th>Price</th>\n",
              "      <th>error</th>\n",
              "    </tr>\n",
              "  </thead>\n",
              "  <tbody>\n",
              "    <tr>\n",
              "      <th>41</th>\n",
              "      <td>41</td>\n",
              "      <td>AAPL230428C00195000</td>\n",
              "      <td>2023-04-10 15:06:40+00:00</td>\n",
              "      <td>195.0</td>\n",
              "      <td>0.02</td>\n",
              "      <td>0.0</td>\n",
              "      <td>0.02</td>\n",
              "      <td>0.0</td>\n",
              "      <td>0.0</td>\n",
              "      <td>1.0</td>\n",
              "      <td>157</td>\n",
              "      <td>0.335944</td>\n",
              "      <td>False</td>\n",
              "      <td>REGULAR</td>\n",
              "      <td>USD</td>\n",
              "      <td>16</td>\n",
              "      <td>2023-04-28</td>\n",
              "      <td>0.010</td>\n",
              "      <td>40.558913</td>\n",
              "      <td>-40.538913</td>\n",
              "    </tr>\n",
              "    <tr>\n",
              "      <th>42</th>\n",
              "      <td>42</td>\n",
              "      <td>AAPL230428C00200000</td>\n",
              "      <td>2023-04-10 14:24:04+00:00</td>\n",
              "      <td>200.0</td>\n",
              "      <td>0.03</td>\n",
              "      <td>0.0</td>\n",
              "      <td>0.02</td>\n",
              "      <td>0.0</td>\n",
              "      <td>0.0</td>\n",
              "      <td>1.0</td>\n",
              "      <td>243</td>\n",
              "      <td>0.371100</td>\n",
              "      <td>False</td>\n",
              "      <td>REGULAR</td>\n",
              "      <td>USD</td>\n",
              "      <td>16</td>\n",
              "      <td>2023-04-28</td>\n",
              "      <td>0.010</td>\n",
              "      <td>37.579386</td>\n",
              "      <td>-37.549386</td>\n",
              "    </tr>\n",
              "    <tr>\n",
              "      <th>43</th>\n",
              "      <td>43</td>\n",
              "      <td>AAPL230428C00205000</td>\n",
              "      <td>2023-04-04 17:04:32+00:00</td>\n",
              "      <td>205.0</td>\n",
              "      <td>0.01</td>\n",
              "      <td>0.0</td>\n",
              "      <td>0.03</td>\n",
              "      <td>0.0</td>\n",
              "      <td>0.0</td>\n",
              "      <td>1.0</td>\n",
              "      <td>2</td>\n",
              "      <td>0.429693</td>\n",
              "      <td>False</td>\n",
              "      <td>REGULAR</td>\n",
              "      <td>USD</td>\n",
              "      <td>16</td>\n",
              "      <td>2023-04-28</td>\n",
              "      <td>0.015</td>\n",
              "      <td>34.659205</td>\n",
              "      <td>-34.649205</td>\n",
              "    </tr>\n",
              "    <tr>\n",
              "      <th>44</th>\n",
              "      <td>44</td>\n",
              "      <td>AAPL230428C00245000</td>\n",
              "      <td>2023-03-13 14:51:49+00:00</td>\n",
              "      <td>245.0</td>\n",
              "      <td>0.01</td>\n",
              "      <td>0.0</td>\n",
              "      <td>0.02</td>\n",
              "      <td>0.0</td>\n",
              "      <td>0.0</td>\n",
              "      <td>NaN</td>\n",
              "      <td>1</td>\n",
              "      <td>0.625004</td>\n",
              "      <td>False</td>\n",
              "      <td>REGULAR</td>\n",
              "      <td>USD</td>\n",
              "      <td>16</td>\n",
              "      <td>2023-04-28</td>\n",
              "      <td>0.010</td>\n",
              "      <td>14.591867</td>\n",
              "      <td>-14.581867</td>\n",
              "    </tr>\n",
              "    <tr>\n",
              "      <th>45</th>\n",
              "      <td>45</td>\n",
              "      <td>AAPL230428C00250000</td>\n",
              "      <td>2023-04-03 18:58:35+00:00</td>\n",
              "      <td>250.0</td>\n",
              "      <td>0.02</td>\n",
              "      <td>0.0</td>\n",
              "      <td>0.00</td>\n",
              "      <td>0.0</td>\n",
              "      <td>0.0</td>\n",
              "      <td>4.0</td>\n",
              "      <td>456</td>\n",
              "      <td>0.500005</td>\n",
              "      <td>False</td>\n",
              "      <td>REGULAR</td>\n",
              "      <td>USD</td>\n",
              "      <td>16</td>\n",
              "      <td>2023-04-28</td>\n",
              "      <td>0.000</td>\n",
              "      <td>12.690393</td>\n",
              "      <td>-12.670393</td>\n",
              "    </tr>\n",
              "  </tbody>\n",
              "</table>\n",
              "</div>\n",
              "      <button class=\"colab-df-convert\" onclick=\"convertToInteractive('df-a0c7c91d-ece7-4191-9336-e20d01162275')\"\n",
              "              title=\"Convert this dataframe to an interactive table.\"\n",
              "              style=\"display:none;\">\n",
              "        \n",
              "  <svg xmlns=\"http://www.w3.org/2000/svg\" height=\"24px\"viewBox=\"0 0 24 24\"\n",
              "       width=\"24px\">\n",
              "    <path d=\"M0 0h24v24H0V0z\" fill=\"none\"/>\n",
              "    <path d=\"M18.56 5.44l.94 2.06.94-2.06 2.06-.94-2.06-.94-.94-2.06-.94 2.06-2.06.94zm-11 1L8.5 8.5l.94-2.06 2.06-.94-2.06-.94L8.5 2.5l-.94 2.06-2.06.94zm10 10l.94 2.06.94-2.06 2.06-.94-2.06-.94-.94-2.06-.94 2.06-2.06.94z\"/><path d=\"M17.41 7.96l-1.37-1.37c-.4-.4-.92-.59-1.43-.59-.52 0-1.04.2-1.43.59L10.3 9.45l-7.72 7.72c-.78.78-.78 2.05 0 2.83L4 21.41c.39.39.9.59 1.41.59.51 0 1.02-.2 1.41-.59l7.78-7.78 2.81-2.81c.8-.78.8-2.07 0-2.86zM5.41 20L4 18.59l7.72-7.72 1.47 1.35L5.41 20z\"/>\n",
              "  </svg>\n",
              "      </button>\n",
              "      \n",
              "  <style>\n",
              "    .colab-df-container {\n",
              "      display:flex;\n",
              "      flex-wrap:wrap;\n",
              "      gap: 12px;\n",
              "    }\n",
              "\n",
              "    .colab-df-convert {\n",
              "      background-color: #E8F0FE;\n",
              "      border: none;\n",
              "      border-radius: 50%;\n",
              "      cursor: pointer;\n",
              "      display: none;\n",
              "      fill: #1967D2;\n",
              "      height: 32px;\n",
              "      padding: 0 0 0 0;\n",
              "      width: 32px;\n",
              "    }\n",
              "\n",
              "    .colab-df-convert:hover {\n",
              "      background-color: #E2EBFA;\n",
              "      box-shadow: 0px 1px 2px rgba(60, 64, 67, 0.3), 0px 1px 3px 1px rgba(60, 64, 67, 0.15);\n",
              "      fill: #174EA6;\n",
              "    }\n",
              "\n",
              "    [theme=dark] .colab-df-convert {\n",
              "      background-color: #3B4455;\n",
              "      fill: #D2E3FC;\n",
              "    }\n",
              "\n",
              "    [theme=dark] .colab-df-convert:hover {\n",
              "      background-color: #434B5C;\n",
              "      box-shadow: 0px 1px 3px 1px rgba(0, 0, 0, 0.15);\n",
              "      filter: drop-shadow(0px 1px 2px rgba(0, 0, 0, 0.3));\n",
              "      fill: #FFFFFF;\n",
              "    }\n",
              "  </style>\n",
              "\n",
              "      <script>\n",
              "        const buttonEl =\n",
              "          document.querySelector('#df-a0c7c91d-ece7-4191-9336-e20d01162275 button.colab-df-convert');\n",
              "        buttonEl.style.display =\n",
              "          google.colab.kernel.accessAllowed ? 'block' : 'none';\n",
              "\n",
              "        async function convertToInteractive(key) {\n",
              "          const element = document.querySelector('#df-a0c7c91d-ece7-4191-9336-e20d01162275');\n",
              "          const dataTable =\n",
              "            await google.colab.kernel.invokeFunction('convertToInteractive',\n",
              "                                                     [key], {});\n",
              "          if (!dataTable) return;\n",
              "\n",
              "          const docLinkHtml = 'Like what you see? Visit the ' +\n",
              "            '<a target=\"_blank\" href=https://colab.research.google.com/notebooks/data_table.ipynb>data table notebook</a>'\n",
              "            + ' to learn more about interactive tables.';\n",
              "          element.innerHTML = '';\n",
              "          dataTable['output_type'] = 'display_data';\n",
              "          await google.colab.output.renderOutput(dataTable, element);\n",
              "          const docLink = document.createElement('div');\n",
              "          docLink.innerHTML = docLinkHtml;\n",
              "          element.appendChild(docLink);\n",
              "        }\n",
              "      </script>\n",
              "    </div>\n",
              "  </div>\n",
              "  "
            ]
          },
          "metadata": {},
          "execution_count": 197
        }
      ]
    },
    {
      "cell_type": "code",
      "source": [
        "df"
      ],
      "metadata": {
        "colab": {
          "base_uri": "https://localhost:8080/",
          "height": 661
        },
        "id": "qso4P2JSi4t6",
        "outputId": "0468b54a-e1ea-4bec-9662-40f3ce42acbb"
      },
      "execution_count": 187,
      "outputs": [
        {
          "output_type": "execute_result",
          "data": {
            "text/plain": [
              "    index       contractSymbol             lastTradeDate  strike  lastPrice   \n",
              "0       0  AAPL230421C00050000 2023-04-10 15:10:29+00:00    50.0     111.25  \\\n",
              "1       1  AAPL230421C00060000 2023-04-05 13:40:06+00:00    60.0     104.95   \n",
              "2       2  AAPL230421C00065000 2023-04-05 13:31:59+00:00    65.0      99.65   \n",
              "3       3  AAPL230421C00070000 2023-04-05 13:45:39+00:00    70.0      94.70   \n",
              "4       4  AAPL230421C00075000 2023-04-05 13:32:00+00:00    75.0      89.65   \n",
              "..    ...                  ...                       ...     ...        ...   \n",
              "56     56  AAPL230421C00270000 2023-04-10 14:24:55+00:00   270.0       0.01   \n",
              "57     57  AAPL230421C00275000 2023-04-05 18:35:35+00:00   275.0       0.01   \n",
              "58     58  AAPL230421C00280000 2023-02-10 20:55:55+00:00   280.0       0.02   \n",
              "59     59  AAPL230421C00290000 2023-03-31 13:30:21+00:00   290.0       0.01   \n",
              "60     60  AAPL230421C00300000 2023-03-21 17:49:44+00:00   300.0       0.01   \n",
              "\n",
              "       bid     ask  change  percentChange  volume  openInterest   \n",
              "0   111.30  111.85     0.0            0.0       4          1173  \\\n",
              "1   101.25  101.90     0.0            0.0      10           187   \n",
              "2    96.25   96.85     0.0            0.0       2           115   \n",
              "3    91.05   92.10     0.0            0.0       2           217   \n",
              "4    86.05   87.35     0.0            0.0       1           118   \n",
              "..     ...     ...     ...            ...     ...           ...   \n",
              "56    0.00    0.01     0.0            0.0       5           797   \n",
              "57    0.00    0.01     0.0            0.0       2           410   \n",
              "58    0.00    0.01     0.0            0.0       2           534   \n",
              "59    0.00    0.01     0.0            0.0       5           748   \n",
              "60    0.00    0.01     0.0            0.0       1          1989   \n",
              "\n",
              "    impliedVolatility  inTheMoney contractSize currency  Time expiration   \n",
              "0            3.082034        True      REGULAR      USD     9 2023-04-21  \\\n",
              "1            2.628910        True      REGULAR      USD     9 2023-04-21   \n",
              "2            2.390629        True      REGULAR      USD     9 2023-04-21   \n",
              "3            2.246098        True      REGULAR      USD     9 2023-04-21   \n",
              "4            2.212895        True      REGULAR      USD     9 2023-04-21   \n",
              "..                ...         ...          ...      ...   ...        ...   \n",
              "56           0.906251       False      REGULAR      USD     9 2023-04-21   \n",
              "57           0.937501       False      REGULAR      USD     9 2023-04-21   \n",
              "58           0.968750       False      REGULAR      USD     9 2023-04-21   \n",
              "59           1.031255       False      REGULAR      USD     9 2023-04-21   \n",
              "60           1.062505       False      REGULAR      USD     9 2023-04-21   \n",
              "\n",
              "    mid_price       Price      error  \n",
              "0     111.575  122.831025 -11.581025  \n",
              "1     101.575  115.197230 -10.247230  \n",
              "2      96.550  111.380333 -11.730333  \n",
              "3      91.575  107.563435 -12.863435  \n",
              "4      86.700  103.746538 -14.096538  \n",
              "..        ...         ...        ...  \n",
              "56      0.005    0.149525  -0.139525  \n",
              "57      0.005    0.102557  -0.092557  \n",
              "58      0.005    0.059096  -0.039096  \n",
              "59      0.005    0.021311  -0.011311  \n",
              "60      0.005    0.007556   0.002444  \n",
              "\n",
              "[61 rows x 20 columns]"
            ],
            "text/html": [
              "\n",
              "  <div id=\"df-71066322-b3c2-4a01-a2c3-45ecea5c877b\">\n",
              "    <div class=\"colab-df-container\">\n",
              "      <div>\n",
              "<style scoped>\n",
              "    .dataframe tbody tr th:only-of-type {\n",
              "        vertical-align: middle;\n",
              "    }\n",
              "\n",
              "    .dataframe tbody tr th {\n",
              "        vertical-align: top;\n",
              "    }\n",
              "\n",
              "    .dataframe thead th {\n",
              "        text-align: right;\n",
              "    }\n",
              "</style>\n",
              "<table border=\"1\" class=\"dataframe\">\n",
              "  <thead>\n",
              "    <tr style=\"text-align: right;\">\n",
              "      <th></th>\n",
              "      <th>index</th>\n",
              "      <th>contractSymbol</th>\n",
              "      <th>lastTradeDate</th>\n",
              "      <th>strike</th>\n",
              "      <th>lastPrice</th>\n",
              "      <th>bid</th>\n",
              "      <th>ask</th>\n",
              "      <th>change</th>\n",
              "      <th>percentChange</th>\n",
              "      <th>volume</th>\n",
              "      <th>openInterest</th>\n",
              "      <th>impliedVolatility</th>\n",
              "      <th>inTheMoney</th>\n",
              "      <th>contractSize</th>\n",
              "      <th>currency</th>\n",
              "      <th>Time</th>\n",
              "      <th>expiration</th>\n",
              "      <th>mid_price</th>\n",
              "      <th>Price</th>\n",
              "      <th>error</th>\n",
              "    </tr>\n",
              "  </thead>\n",
              "  <tbody>\n",
              "    <tr>\n",
              "      <th>0</th>\n",
              "      <td>0</td>\n",
              "      <td>AAPL230421C00050000</td>\n",
              "      <td>2023-04-10 15:10:29+00:00</td>\n",
              "      <td>50.0</td>\n",
              "      <td>111.25</td>\n",
              "      <td>111.30</td>\n",
              "      <td>111.85</td>\n",
              "      <td>0.0</td>\n",
              "      <td>0.0</td>\n",
              "      <td>4</td>\n",
              "      <td>1173</td>\n",
              "      <td>3.082034</td>\n",
              "      <td>True</td>\n",
              "      <td>REGULAR</td>\n",
              "      <td>USD</td>\n",
              "      <td>9</td>\n",
              "      <td>2023-04-21</td>\n",
              "      <td>111.575</td>\n",
              "      <td>122.831025</td>\n",
              "      <td>-11.581025</td>\n",
              "    </tr>\n",
              "    <tr>\n",
              "      <th>1</th>\n",
              "      <td>1</td>\n",
              "      <td>AAPL230421C00060000</td>\n",
              "      <td>2023-04-05 13:40:06+00:00</td>\n",
              "      <td>60.0</td>\n",
              "      <td>104.95</td>\n",
              "      <td>101.25</td>\n",
              "      <td>101.90</td>\n",
              "      <td>0.0</td>\n",
              "      <td>0.0</td>\n",
              "      <td>10</td>\n",
              "      <td>187</td>\n",
              "      <td>2.628910</td>\n",
              "      <td>True</td>\n",
              "      <td>REGULAR</td>\n",
              "      <td>USD</td>\n",
              "      <td>9</td>\n",
              "      <td>2023-04-21</td>\n",
              "      <td>101.575</td>\n",
              "      <td>115.197230</td>\n",
              "      <td>-10.247230</td>\n",
              "    </tr>\n",
              "    <tr>\n",
              "      <th>2</th>\n",
              "      <td>2</td>\n",
              "      <td>AAPL230421C00065000</td>\n",
              "      <td>2023-04-05 13:31:59+00:00</td>\n",
              "      <td>65.0</td>\n",
              "      <td>99.65</td>\n",
              "      <td>96.25</td>\n",
              "      <td>96.85</td>\n",
              "      <td>0.0</td>\n",
              "      <td>0.0</td>\n",
              "      <td>2</td>\n",
              "      <td>115</td>\n",
              "      <td>2.390629</td>\n",
              "      <td>True</td>\n",
              "      <td>REGULAR</td>\n",
              "      <td>USD</td>\n",
              "      <td>9</td>\n",
              "      <td>2023-04-21</td>\n",
              "      <td>96.550</td>\n",
              "      <td>111.380333</td>\n",
              "      <td>-11.730333</td>\n",
              "    </tr>\n",
              "    <tr>\n",
              "      <th>3</th>\n",
              "      <td>3</td>\n",
              "      <td>AAPL230421C00070000</td>\n",
              "      <td>2023-04-05 13:45:39+00:00</td>\n",
              "      <td>70.0</td>\n",
              "      <td>94.70</td>\n",
              "      <td>91.05</td>\n",
              "      <td>92.10</td>\n",
              "      <td>0.0</td>\n",
              "      <td>0.0</td>\n",
              "      <td>2</td>\n",
              "      <td>217</td>\n",
              "      <td>2.246098</td>\n",
              "      <td>True</td>\n",
              "      <td>REGULAR</td>\n",
              "      <td>USD</td>\n",
              "      <td>9</td>\n",
              "      <td>2023-04-21</td>\n",
              "      <td>91.575</td>\n",
              "      <td>107.563435</td>\n",
              "      <td>-12.863435</td>\n",
              "    </tr>\n",
              "    <tr>\n",
              "      <th>4</th>\n",
              "      <td>4</td>\n",
              "      <td>AAPL230421C00075000</td>\n",
              "      <td>2023-04-05 13:32:00+00:00</td>\n",
              "      <td>75.0</td>\n",
              "      <td>89.65</td>\n",
              "      <td>86.05</td>\n",
              "      <td>87.35</td>\n",
              "      <td>0.0</td>\n",
              "      <td>0.0</td>\n",
              "      <td>1</td>\n",
              "      <td>118</td>\n",
              "      <td>2.212895</td>\n",
              "      <td>True</td>\n",
              "      <td>REGULAR</td>\n",
              "      <td>USD</td>\n",
              "      <td>9</td>\n",
              "      <td>2023-04-21</td>\n",
              "      <td>86.700</td>\n",
              "      <td>103.746538</td>\n",
              "      <td>-14.096538</td>\n",
              "    </tr>\n",
              "    <tr>\n",
              "      <th>...</th>\n",
              "      <td>...</td>\n",
              "      <td>...</td>\n",
              "      <td>...</td>\n",
              "      <td>...</td>\n",
              "      <td>...</td>\n",
              "      <td>...</td>\n",
              "      <td>...</td>\n",
              "      <td>...</td>\n",
              "      <td>...</td>\n",
              "      <td>...</td>\n",
              "      <td>...</td>\n",
              "      <td>...</td>\n",
              "      <td>...</td>\n",
              "      <td>...</td>\n",
              "      <td>...</td>\n",
              "      <td>...</td>\n",
              "      <td>...</td>\n",
              "      <td>...</td>\n",
              "      <td>...</td>\n",
              "      <td>...</td>\n",
              "    </tr>\n",
              "    <tr>\n",
              "      <th>56</th>\n",
              "      <td>56</td>\n",
              "      <td>AAPL230421C00270000</td>\n",
              "      <td>2023-04-10 14:24:55+00:00</td>\n",
              "      <td>270.0</td>\n",
              "      <td>0.01</td>\n",
              "      <td>0.00</td>\n",
              "      <td>0.01</td>\n",
              "      <td>0.0</td>\n",
              "      <td>0.0</td>\n",
              "      <td>5</td>\n",
              "      <td>797</td>\n",
              "      <td>0.906251</td>\n",
              "      <td>False</td>\n",
              "      <td>REGULAR</td>\n",
              "      <td>USD</td>\n",
              "      <td>9</td>\n",
              "      <td>2023-04-21</td>\n",
              "      <td>0.005</td>\n",
              "      <td>0.149525</td>\n",
              "      <td>-0.139525</td>\n",
              "    </tr>\n",
              "    <tr>\n",
              "      <th>57</th>\n",
              "      <td>57</td>\n",
              "      <td>AAPL230421C00275000</td>\n",
              "      <td>2023-04-05 18:35:35+00:00</td>\n",
              "      <td>275.0</td>\n",
              "      <td>0.01</td>\n",
              "      <td>0.00</td>\n",
              "      <td>0.01</td>\n",
              "      <td>0.0</td>\n",
              "      <td>0.0</td>\n",
              "      <td>2</td>\n",
              "      <td>410</td>\n",
              "      <td>0.937501</td>\n",
              "      <td>False</td>\n",
              "      <td>REGULAR</td>\n",
              "      <td>USD</td>\n",
              "      <td>9</td>\n",
              "      <td>2023-04-21</td>\n",
              "      <td>0.005</td>\n",
              "      <td>0.102557</td>\n",
              "      <td>-0.092557</td>\n",
              "    </tr>\n",
              "    <tr>\n",
              "      <th>58</th>\n",
              "      <td>58</td>\n",
              "      <td>AAPL230421C00280000</td>\n",
              "      <td>2023-02-10 20:55:55+00:00</td>\n",
              "      <td>280.0</td>\n",
              "      <td>0.02</td>\n",
              "      <td>0.00</td>\n",
              "      <td>0.01</td>\n",
              "      <td>0.0</td>\n",
              "      <td>0.0</td>\n",
              "      <td>2</td>\n",
              "      <td>534</td>\n",
              "      <td>0.968750</td>\n",
              "      <td>False</td>\n",
              "      <td>REGULAR</td>\n",
              "      <td>USD</td>\n",
              "      <td>9</td>\n",
              "      <td>2023-04-21</td>\n",
              "      <td>0.005</td>\n",
              "      <td>0.059096</td>\n",
              "      <td>-0.039096</td>\n",
              "    </tr>\n",
              "    <tr>\n",
              "      <th>59</th>\n",
              "      <td>59</td>\n",
              "      <td>AAPL230421C00290000</td>\n",
              "      <td>2023-03-31 13:30:21+00:00</td>\n",
              "      <td>290.0</td>\n",
              "      <td>0.01</td>\n",
              "      <td>0.00</td>\n",
              "      <td>0.01</td>\n",
              "      <td>0.0</td>\n",
              "      <td>0.0</td>\n",
              "      <td>5</td>\n",
              "      <td>748</td>\n",
              "      <td>1.031255</td>\n",
              "      <td>False</td>\n",
              "      <td>REGULAR</td>\n",
              "      <td>USD</td>\n",
              "      <td>9</td>\n",
              "      <td>2023-04-21</td>\n",
              "      <td>0.005</td>\n",
              "      <td>0.021311</td>\n",
              "      <td>-0.011311</td>\n",
              "    </tr>\n",
              "    <tr>\n",
              "      <th>60</th>\n",
              "      <td>60</td>\n",
              "      <td>AAPL230421C00300000</td>\n",
              "      <td>2023-03-21 17:49:44+00:00</td>\n",
              "      <td>300.0</td>\n",
              "      <td>0.01</td>\n",
              "      <td>0.00</td>\n",
              "      <td>0.01</td>\n",
              "      <td>0.0</td>\n",
              "      <td>0.0</td>\n",
              "      <td>1</td>\n",
              "      <td>1989</td>\n",
              "      <td>1.062505</td>\n",
              "      <td>False</td>\n",
              "      <td>REGULAR</td>\n",
              "      <td>USD</td>\n",
              "      <td>9</td>\n",
              "      <td>2023-04-21</td>\n",
              "      <td>0.005</td>\n",
              "      <td>0.007556</td>\n",
              "      <td>0.002444</td>\n",
              "    </tr>\n",
              "  </tbody>\n",
              "</table>\n",
              "<p>61 rows × 20 columns</p>\n",
              "</div>\n",
              "      <button class=\"colab-df-convert\" onclick=\"convertToInteractive('df-71066322-b3c2-4a01-a2c3-45ecea5c877b')\"\n",
              "              title=\"Convert this dataframe to an interactive table.\"\n",
              "              style=\"display:none;\">\n",
              "        \n",
              "  <svg xmlns=\"http://www.w3.org/2000/svg\" height=\"24px\"viewBox=\"0 0 24 24\"\n",
              "       width=\"24px\">\n",
              "    <path d=\"M0 0h24v24H0V0z\" fill=\"none\"/>\n",
              "    <path d=\"M18.56 5.44l.94 2.06.94-2.06 2.06-.94-2.06-.94-.94-2.06-.94 2.06-2.06.94zm-11 1L8.5 8.5l.94-2.06 2.06-.94-2.06-.94L8.5 2.5l-.94 2.06-2.06.94zm10 10l.94 2.06.94-2.06 2.06-.94-2.06-.94-.94-2.06-.94 2.06-2.06.94z\"/><path d=\"M17.41 7.96l-1.37-1.37c-.4-.4-.92-.59-1.43-.59-.52 0-1.04.2-1.43.59L10.3 9.45l-7.72 7.72c-.78.78-.78 2.05 0 2.83L4 21.41c.39.39.9.59 1.41.59.51 0 1.02-.2 1.41-.59l7.78-7.78 2.81-2.81c.8-.78.8-2.07 0-2.86zM5.41 20L4 18.59l7.72-7.72 1.47 1.35L5.41 20z\"/>\n",
              "  </svg>\n",
              "      </button>\n",
              "      \n",
              "  <style>\n",
              "    .colab-df-container {\n",
              "      display:flex;\n",
              "      flex-wrap:wrap;\n",
              "      gap: 12px;\n",
              "    }\n",
              "\n",
              "    .colab-df-convert {\n",
              "      background-color: #E8F0FE;\n",
              "      border: none;\n",
              "      border-radius: 50%;\n",
              "      cursor: pointer;\n",
              "      display: none;\n",
              "      fill: #1967D2;\n",
              "      height: 32px;\n",
              "      padding: 0 0 0 0;\n",
              "      width: 32px;\n",
              "    }\n",
              "\n",
              "    .colab-df-convert:hover {\n",
              "      background-color: #E2EBFA;\n",
              "      box-shadow: 0px 1px 2px rgba(60, 64, 67, 0.3), 0px 1px 3px 1px rgba(60, 64, 67, 0.15);\n",
              "      fill: #174EA6;\n",
              "    }\n",
              "\n",
              "    [theme=dark] .colab-df-convert {\n",
              "      background-color: #3B4455;\n",
              "      fill: #D2E3FC;\n",
              "    }\n",
              "\n",
              "    [theme=dark] .colab-df-convert:hover {\n",
              "      background-color: #434B5C;\n",
              "      box-shadow: 0px 1px 3px 1px rgba(0, 0, 0, 0.15);\n",
              "      filter: drop-shadow(0px 1px 2px rgba(0, 0, 0, 0.3));\n",
              "      fill: #FFFFFF;\n",
              "    }\n",
              "  </style>\n",
              "\n",
              "      <script>\n",
              "        const buttonEl =\n",
              "          document.querySelector('#df-71066322-b3c2-4a01-a2c3-45ecea5c877b button.colab-df-convert');\n",
              "        buttonEl.style.display =\n",
              "          google.colab.kernel.accessAllowed ? 'block' : 'none';\n",
              "\n",
              "        async function convertToInteractive(key) {\n",
              "          const element = document.querySelector('#df-71066322-b3c2-4a01-a2c3-45ecea5c877b');\n",
              "          const dataTable =\n",
              "            await google.colab.kernel.invokeFunction('convertToInteractive',\n",
              "                                                     [key], {});\n",
              "          if (!dataTable) return;\n",
              "\n",
              "          const docLinkHtml = 'Like what you see? Visit the ' +\n",
              "            '<a target=\"_blank\" href=https://colab.research.google.com/notebooks/data_table.ipynb>data table notebook</a>'\n",
              "            + ' to learn more about interactive tables.';\n",
              "          element.innerHTML = '';\n",
              "          dataTable['output_type'] = 'display_data';\n",
              "          await google.colab.output.renderOutput(dataTable, element);\n",
              "          const docLink = document.createElement('div');\n",
              "          docLink.innerHTML = docLinkHtml;\n",
              "          element.appendChild(docLink);\n",
              "        }\n",
              "      </script>\n",
              "    </div>\n",
              "  </div>\n",
              "  "
            ]
          },
          "metadata": {},
          "execution_count": 187
        }
      ]
    }
  ]
}